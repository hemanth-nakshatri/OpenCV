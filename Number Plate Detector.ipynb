{
 "cells": [
  {
   "cell_type": "code",
   "execution_count": 1,
   "metadata": {},
   "outputs": [],
   "source": [
    "import cv2\n",
    "import numpy as np\n",
    "\n",
    "nPlateCascade = cv2.CascadeClassifier(\"numberPlateCascade.xml\")\n",
    "minArea = 500\n",
    "color = (255,0,255)\n",
    "\n",
    "video = cv2.VideoCapture(0)\n",
    "\n",
    "###################################################\n",
    "# hold a number plate in webcam feed for detection\n",
    "###################################################\n",
    "\n",
    "while True:\n",
    "    _, img = video.read()\n",
    "    imgGray = cv2.cvtColor(img, cv2.COLOR_BGR2GRAY)\n",
    "    numberPlates = nPlateCascade.detectMultiScale(imgGray, 1.1, 4)\n",
    "    for (x, y, w, h) in numberPlates:\n",
    "        cv2.rectangle(img, (x,y), (x+w,y+h), (0,255,0), 1)\n",
    "        area = w*h\n",
    "        if area > minArea:\n",
    "            cv2.rectangle(img, (x,y), (x+w, y+h), (255,0,0),2)\n",
    "            cv2.putText(img, \"Number Plate\", (x,y-5), cv2.FONT_HERSHEY_COMPLEX_SMALL, 1, color, 2)\n",
    "            imgRoi = img[y:y+h, x:x+w]\n",
    "            cv2.imshow(\"roi\", imgRoi)\n",
    "            \n",
    "    \n",
    "    cv2.imshow(\"video\", img)\n",
    "    if cv2.waitKey(1) & 0xFF == ord('q'):\n",
    "        cv2.destroyAllWindows()\n",
    "        video.release()\n",
    "        break"
   ]
  },
  {
   "cell_type": "code",
   "execution_count": null,
   "metadata": {},
   "outputs": [],
   "source": []
  }
 ],
 "metadata": {
  "kernelspec": {
   "display_name": "Python 3",
   "language": "python",
   "name": "python3"
  },
  "language_info": {
   "codemirror_mode": {
    "name": "ipython",
    "version": 3
   },
   "file_extension": ".py",
   "mimetype": "text/x-python",
   "name": "python",
   "nbconvert_exporter": "python",
   "pygments_lexer": "ipython3",
   "version": "3.7.7"
  }
 },
 "nbformat": 4,
 "nbformat_minor": 4
}
